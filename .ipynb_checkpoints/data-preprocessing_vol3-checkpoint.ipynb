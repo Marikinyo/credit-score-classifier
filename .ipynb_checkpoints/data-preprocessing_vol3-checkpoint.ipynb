{
 "cells": [
  {
   "cell_type": "code",
   "execution_count": 1,
   "metadata": {
    "ExecuteTime": {
     "end_time": "2025-02-21T11:03:05.334986Z",
     "start_time": "2025-02-21T11:03:04.959683Z"
    }
   },
   "outputs": [
    {
     "name": "stderr",
     "output_type": "stream",
     "text": [
      "C:\\Users\\user\\anaconda3\\lib\\site-packages\\pandas\\core\\computation\\expressions.py:20: UserWarning: Pandas requires version '2.7.3' or newer of 'numexpr' (version '2.7.1' currently installed).\n",
      "  from pandas.core.computation.check import NUMEXPR_INSTALLED\n"
     ]
    }
   ],
   "source": [
    "import os\n",
    "import numpy as np\n",
    "import pandas as pd"
   ]
  },
  {
   "cell_type": "markdown",
   "metadata": {},
   "source": [
    "# Useful functions"
   ]
  },
  {
   "cell_type": "code",
   "execution_count": 2,
   "metadata": {
    "ExecuteTime": {
     "end_time": "2025-02-21T11:03:05.351060Z",
     "start_time": "2025-02-21T11:03:05.336977Z"
    }
   },
   "outputs": [],
   "source": [
    "def convert_to_months(age_str):\n",
    "    if pd.isna(age_str):  # Check if the value is NaN or None\n",
    "        return None\n",
    "    \n",
    "    years, months = 0, 0\n",
    "    # Extract the number of years and months from the string\n",
    "    if 'Year' in age_str:\n",
    "        years = int(age_str.split(' Year')[0])  # Get years\n",
    "    if 'Month' in age_str:\n",
    "        months = int(age_str.split(' Month')[0].split('and')[-1].strip())  # Get months\n",
    "    return (years * 12) + months  # Convert to months"
   ]
  },
  {
   "cell_type": "code",
   "execution_count": 3,
   "metadata": {
    "ExecuteTime": {
     "end_time": "2025-02-21T11:03:05.367105Z",
     "start_time": "2025-02-21T11:03:05.355044Z"
    }
   },
   "outputs": [],
   "source": [
    "def fill_first_value(x):\n",
    "    \"\"\"Find the first non-null value in the group or infer from the second element.\"\"\"\n",
    "    if pd.isna(x.iloc[0]):  # If the first element is NaN\n",
    "        non_nulls = x.dropna()\n",
    "        if len(non_nulls) > 0:\n",
    "            return non_nulls.iloc[0] - 1  # Use the second element - 1\n",
    "        else:\n",
    "            return np.nan  # If the entire group is NaN, keep it NaN\n",
    "    return x.iloc[0]  # Otherwise, use the first element"
   ]
  },
  {
   "cell_type": "code",
   "execution_count": 4,
   "metadata": {
    "ExecuteTime": {
     "end_time": "2025-02-21T11:03:05.382378Z",
     "start_time": "2025-02-21T11:03:05.369094Z"
    }
   },
   "outputs": [],
   "source": [
    "def fill_mode_by_group(df, group_col, target_cols):\n",
    "    \"\"\"\n",
    "    Fill missing values in target columns using mode within each group.\n",
    "\n",
    "    Parameters:\n",
    "    df (pd.DataFrame): The input dataframe.\n",
    "    group_col (str): The column to group by.\n",
    "    target_cols (list): The columns to fill using mode.\n",
    "\n",
    "    Returns:\n",
    "    pd.DataFrame: Dataframe with updated values.\n",
    "    \"\"\"\n",
    "    for col in target_cols:\n",
    "        df[col] = df.groupby(group_col)[col].transform(lambda x: x.mode()[0] if not x.mode().empty else x)\n",
    "    return df"
   ]
  },
  {
   "cell_type": "markdown",
   "metadata": {},
   "source": [
    "# Read data"
   ]
  },
  {
   "cell_type": "code",
   "execution_count": 5,
   "metadata": {
    "ExecuteTime": {
     "end_time": "2025-02-21T11:03:05.397332Z",
     "start_time": "2025-02-21T11:03:05.384373Z"
    }
   },
   "outputs": [],
   "source": [
    "main_dir = 'data/raw/'\n",
    "train_file_name = 'train.csv'\n",
    "test_file_name = 'test.csv'"
   ]
  },
  {
   "cell_type": "code",
   "execution_count": 6,
   "metadata": {
    "ExecuteTime": {
     "end_time": "2025-02-21T11:03:05.412408Z",
     "start_time": "2025-02-21T11:03:05.398326Z"
    }
   },
   "outputs": [],
   "source": [
    "train_file_path = os.path.join(main_dir, train_file_name)\n",
    "test_file_name = os.path.join(main_dir, test_file_name)"
   ]
  },
  {
   "cell_type": "code",
   "execution_count": 7,
   "metadata": {
    "ExecuteTime": {
     "end_time": "2025-02-21T11:03:06.215136Z",
     "start_time": "2025-02-21T11:03:05.414394Z"
    }
   },
   "outputs": [
    {
     "name": "stderr",
     "output_type": "stream",
     "text": [
      "<ipython-input-7-f12fa1568102>:1: DtypeWarning: Columns (26) have mixed types. Specify dtype option on import or set low_memory=False.\n",
      "  train_df = pd.read_csv(train_file_path)\n"
     ]
    }
   ],
   "source": [
    "train_df = pd.read_csv(train_file_path)\n",
    "test_df = pd.read_csv(test_file_name)"
   ]
  },
  {
   "cell_type": "code",
   "execution_count": 8,
   "metadata": {
    "ExecuteTime": {
     "end_time": "2025-02-21T11:03:06.230099Z",
     "start_time": "2025-02-21T11:03:06.217129Z"
    }
   },
   "outputs": [],
   "source": [
    "# train_df.head()"
   ]
  },
  {
   "cell_type": "code",
   "execution_count": 9,
   "metadata": {
    "ExecuteTime": {
     "end_time": "2025-02-21T11:03:06.294151Z",
     "start_time": "2025-02-21T11:03:06.232260Z"
    }
   },
   "outputs": [
    {
     "data": {
      "text/html": [
       "<div>\n",
       "<style scoped>\n",
       "    .dataframe tbody tr th:only-of-type {\n",
       "        vertical-align: middle;\n",
       "    }\n",
       "\n",
       "    .dataframe tbody tr th {\n",
       "        vertical-align: top;\n",
       "    }\n",
       "\n",
       "    .dataframe thead th {\n",
       "        text-align: right;\n",
       "    }\n",
       "</style>\n",
       "<table border=\"1\" class=\"dataframe\">\n",
       "  <thead>\n",
       "    <tr style=\"text-align: right;\">\n",
       "      <th></th>\n",
       "      <th>count</th>\n",
       "      <th>mean</th>\n",
       "      <th>std</th>\n",
       "      <th>min</th>\n",
       "      <th>25%</th>\n",
       "      <th>50%</th>\n",
       "      <th>75%</th>\n",
       "      <th>max</th>\n",
       "    </tr>\n",
       "  </thead>\n",
       "  <tbody>\n",
       "    <tr>\n",
       "      <th>Monthly_Inhand_Salary</th>\n",
       "      <td>84998.0</td>\n",
       "      <td>4194.170850</td>\n",
       "      <td>3183.686167</td>\n",
       "      <td>303.645417</td>\n",
       "      <td>1625.568229</td>\n",
       "      <td>3093.745000</td>\n",
       "      <td>5957.448333</td>\n",
       "      <td>15204.633333</td>\n",
       "    </tr>\n",
       "    <tr>\n",
       "      <th>Num_Bank_Accounts</th>\n",
       "      <td>100000.0</td>\n",
       "      <td>17.091280</td>\n",
       "      <td>117.404834</td>\n",
       "      <td>-1.000000</td>\n",
       "      <td>3.000000</td>\n",
       "      <td>6.000000</td>\n",
       "      <td>7.000000</td>\n",
       "      <td>1798.000000</td>\n",
       "    </tr>\n",
       "    <tr>\n",
       "      <th>Num_Credit_Card</th>\n",
       "      <td>100000.0</td>\n",
       "      <td>22.474430</td>\n",
       "      <td>129.057410</td>\n",
       "      <td>0.000000</td>\n",
       "      <td>4.000000</td>\n",
       "      <td>5.000000</td>\n",
       "      <td>7.000000</td>\n",
       "      <td>1499.000000</td>\n",
       "    </tr>\n",
       "    <tr>\n",
       "      <th>Interest_Rate</th>\n",
       "      <td>100000.0</td>\n",
       "      <td>72.466040</td>\n",
       "      <td>466.422621</td>\n",
       "      <td>1.000000</td>\n",
       "      <td>8.000000</td>\n",
       "      <td>13.000000</td>\n",
       "      <td>20.000000</td>\n",
       "      <td>5797.000000</td>\n",
       "    </tr>\n",
       "    <tr>\n",
       "      <th>Delay_from_due_date</th>\n",
       "      <td>100000.0</td>\n",
       "      <td>21.068780</td>\n",
       "      <td>14.860104</td>\n",
       "      <td>-5.000000</td>\n",
       "      <td>10.000000</td>\n",
       "      <td>18.000000</td>\n",
       "      <td>28.000000</td>\n",
       "      <td>67.000000</td>\n",
       "    </tr>\n",
       "    <tr>\n",
       "      <th>Num_Credit_Inquiries</th>\n",
       "      <td>98035.0</td>\n",
       "      <td>27.754251</td>\n",
       "      <td>193.177339</td>\n",
       "      <td>0.000000</td>\n",
       "      <td>3.000000</td>\n",
       "      <td>6.000000</td>\n",
       "      <td>9.000000</td>\n",
       "      <td>2597.000000</td>\n",
       "    </tr>\n",
       "    <tr>\n",
       "      <th>Credit_Utilization_Ratio</th>\n",
       "      <td>100000.0</td>\n",
       "      <td>32.285173</td>\n",
       "      <td>5.116875</td>\n",
       "      <td>20.000000</td>\n",
       "      <td>28.052567</td>\n",
       "      <td>32.305784</td>\n",
       "      <td>36.496663</td>\n",
       "      <td>50.000000</td>\n",
       "    </tr>\n",
       "    <tr>\n",
       "      <th>Total_EMI_per_month</th>\n",
       "      <td>100000.0</td>\n",
       "      <td>1403.118217</td>\n",
       "      <td>8306.041270</td>\n",
       "      <td>0.000000</td>\n",
       "      <td>30.306660</td>\n",
       "      <td>69.249473</td>\n",
       "      <td>161.224249</td>\n",
       "      <td>82331.000000</td>\n",
       "    </tr>\n",
       "  </tbody>\n",
       "</table>\n",
       "</div>"
      ],
      "text/plain": [
       "                             count         mean          std         min  \\\n",
       "Monthly_Inhand_Salary      84998.0  4194.170850  3183.686167  303.645417   \n",
       "Num_Bank_Accounts         100000.0    17.091280   117.404834   -1.000000   \n",
       "Num_Credit_Card           100000.0    22.474430   129.057410    0.000000   \n",
       "Interest_Rate             100000.0    72.466040   466.422621    1.000000   \n",
       "Delay_from_due_date       100000.0    21.068780    14.860104   -5.000000   \n",
       "Num_Credit_Inquiries       98035.0    27.754251   193.177339    0.000000   \n",
       "Credit_Utilization_Ratio  100000.0    32.285173     5.116875   20.000000   \n",
       "Total_EMI_per_month       100000.0  1403.118217  8306.041270    0.000000   \n",
       "\n",
       "                                  25%          50%          75%           max  \n",
       "Monthly_Inhand_Salary     1625.568229  3093.745000  5957.448333  15204.633333  \n",
       "Num_Bank_Accounts            3.000000     6.000000     7.000000   1798.000000  \n",
       "Num_Credit_Card              4.000000     5.000000     7.000000   1499.000000  \n",
       "Interest_Rate                8.000000    13.000000    20.000000   5797.000000  \n",
       "Delay_from_due_date         10.000000    18.000000    28.000000     67.000000  \n",
       "Num_Credit_Inquiries         3.000000     6.000000     9.000000   2597.000000  \n",
       "Credit_Utilization_Ratio    28.052567    32.305784    36.496663     50.000000  \n",
       "Total_EMI_per_month         30.306660    69.249473   161.224249  82331.000000  "
      ]
     },
     "execution_count": 9,
     "metadata": {},
     "output_type": "execute_result"
    }
   ],
   "source": [
    "train_df.describe().T"
   ]
  },
  {
   "cell_type": "markdown",
   "metadata": {},
   "source": [
    "# Data preprocessing\n"
   ]
  },
  {
   "cell_type": "code",
   "execution_count": 10,
   "metadata": {
    "ExecuteTime": {
     "end_time": "2025-02-21T11:03:06.544999Z",
     "start_time": "2025-02-21T11:03:06.296143Z"
    }
   },
   "outputs": [],
   "source": [
    "# duplicates\n",
    "train_df.drop_duplicates(inplace=True)"
   ]
  },
  {
   "cell_type": "code",
   "execution_count": 11,
   "metadata": {
    "ExecuteTime": {
     "end_time": "2025-02-21T11:03:06.560743Z",
     "start_time": "2025-02-21T11:03:06.547038Z"
    }
   },
   "outputs": [],
   "source": [
    "# Set pandas to show all rows and columns\n",
    "pd.set_option('display.max_rows', None)\n",
    "pd.set_option('display.max_columns', None)"
   ]
  },
  {
   "cell_type": "code",
   "execution_count": 12,
   "metadata": {
    "ExecuteTime": {
     "end_time": "2025-02-21T11:03:06.639476Z",
     "start_time": "2025-02-21T11:03:06.562861Z"
    }
   },
   "outputs": [
    {
     "data": {
      "text/plain": [
       "ID                              0\n",
       "Customer_ID                     0\n",
       "Month                           0\n",
       "Name                         9985\n",
       "Age                             0\n",
       "SSN                             0\n",
       "Occupation                      0\n",
       "Annual_Income                   0\n",
       "Monthly_Inhand_Salary       15002\n",
       "Num_Bank_Accounts               0\n",
       "Num_Credit_Card                 0\n",
       "Interest_Rate                   0\n",
       "Num_of_Loan                     0\n",
       "Type_of_Loan                11408\n",
       "Delay_from_due_date             0\n",
       "Num_of_Delayed_Payment       7002\n",
       "Changed_Credit_Limit            0\n",
       "Num_Credit_Inquiries         1965\n",
       "Credit_Mix                      0\n",
       "Outstanding_Debt                0\n",
       "Credit_Utilization_Ratio        0\n",
       "Credit_History_Age           9030\n",
       "Payment_of_Min_Amount           0\n",
       "Total_EMI_per_month             0\n",
       "Amount_invested_monthly      4479\n",
       "Payment_Behaviour               0\n",
       "Monthly_Balance              1200\n",
       "Credit_Score                    0\n",
       "dtype: int64"
      ]
     },
     "execution_count": 12,
     "metadata": {},
     "output_type": "execute_result"
    }
   ],
   "source": [
    "train_df.isnull().sum()"
   ]
  },
  {
   "cell_type": "code",
   "execution_count": 13,
   "metadata": {
    "ExecuteTime": {
     "end_time": "2025-02-21T11:03:11.528267Z",
     "start_time": "2025-02-21T11:03:06.641509Z"
    }
   },
   "outputs": [],
   "source": [
    "# fill missing values by group\n",
    "for column in [\"Monthly_Inhand_Salary\", \"Num_Credit_Inquiries\"]:\n",
    "    train_df[column] = train_df.groupby(\"Customer_ID\")[column].transform(\n",
    "        lambda x: x.fillna(method=\"ffill\").fillna(method=\"bfill\")\n",
    "    )"
   ]
  },
  {
   "cell_type": "code",
   "execution_count": 14,
   "metadata": {
    "ExecuteTime": {
     "end_time": "2025-02-21T11:03:11.699899Z",
     "start_time": "2025-02-21T11:03:11.530366Z"
    }
   },
   "outputs": [],
   "source": [
    "# convert history age to month\n",
    "train_df[\"age_in_months\"] = train_df[\"Credit_History_Age\"].apply(convert_to_months)"
   ]
  },
  {
   "cell_type": "code",
   "execution_count": 15,
   "metadata": {
    "ExecuteTime": {
     "end_time": "2025-02-21T11:03:11.731920Z",
     "start_time": "2025-02-21T11:03:11.700900Z"
    }
   },
   "outputs": [],
   "source": [
    "train_df.drop(['Credit_History_Age'], axis=1, inplace=True)"
   ]
  },
  {
   "cell_type": "code",
   "execution_count": 16,
   "metadata": {
    "ExecuteTime": {
     "end_time": "2025-02-21T11:03:13.029893Z",
     "start_time": "2025-02-21T11:03:11.732824Z"
    }
   },
   "outputs": [],
   "source": [
    "# fill missing values in history age\n",
    "train_df['age_in_months_filled'] = train_df.groupby('Customer_ID')['age_in_months'].transform(\n",
    "    lambda x: fill_first_value(x) + range(len(x))\n",
    ")"
   ]
  },
  {
   "cell_type": "code",
   "execution_count": 17,
   "metadata": {
    "ExecuteTime": {
     "end_time": "2025-02-21T11:03:13.347036Z",
     "start_time": "2025-02-21T11:03:13.030876Z"
    }
   },
   "outputs": [],
   "source": [
    "# Columns to clean\n",
    "columns_to_clean = [\"Num_of_Delayed_Payment\", \"Amount_invested_monthly\", \"Monthly_Balance\"]\n",
    "\n",
    "# Step 1: Replace '10000' with NaN in selected columns\n",
    "train_df[columns_to_clean] = train_df[columns_to_clean].replace(\"__10000__\", np.nan)\n",
    "\n",
    "# Step 2: Fix values like '8_' to '8' in selected columns\n",
    "train_df[columns_to_clean] = train_df[columns_to_clean].astype(str).apply(lambda col: col.str.replace(r\"_$\", \"\", regex=True))\n",
    "\n",
    "# Step 3: Convert selected columns to numeric (errors='coerce' converts invalid values to NaN)\n",
    "train_df[columns_to_clean] = train_df[columns_to_clean].apply(pd.to_numeric, errors=\"coerce\")\n",
    "\n",
    "# Step 4: Replace negative values with NaN in selected columns\n",
    "train_df[columns_to_clean] = train_df[columns_to_clean].where(train_df[columns_to_clean] >= 0, np.nan)"
   ]
  },
  {
   "cell_type": "code",
   "execution_count": 18,
   "metadata": {
    "ExecuteTime": {
     "end_time": "2025-02-21T11:03:30.555228Z",
     "start_time": "2025-02-21T11:03:13.350946Z"
    }
   },
   "outputs": [],
   "source": [
    "# List of columns to apply mode filling\n",
    "target_columns = [\n",
    "    \"Occupation\", \"Num_Credit_Card\", \"Interest_Rate\",\n",
    "    \"Num_of_Loan\", \"Num_Credit_Inquiries\", \"Credit_Mix\"\n",
    "]\n",
    "\n",
    "# Apply function\n",
    "train_df = fill_mode_by_group(train_df, \"Customer_ID\", target_columns)"
   ]
  },
  {
   "cell_type": "code",
   "execution_count": 19,
   "metadata": {
    "ExecuteTime": {
     "end_time": "2025-02-21T11:03:30.570797Z",
     "start_time": "2025-02-21T11:03:30.557747Z"
    }
   },
   "outputs": [],
   "source": [
    "# Rename 'age_in_months_filled' to 'Credit_History_Age'\n",
    "train_df.rename(columns={'age_in_months_filled': 'Credit_History_Age'}, inplace=True)"
   ]
  },
  {
   "cell_type": "code",
   "execution_count": 20,
   "metadata": {
    "ExecuteTime": {
     "end_time": "2025-02-21T11:03:33.318735Z",
     "start_time": "2025-02-21T11:03:30.572837Z"
    }
   },
   "outputs": [],
   "source": [
    "# Convert Age to numeric (if not already)\n",
    "train_df[\"Age\"] = pd.to_numeric(train_df[\"Age\"], errors=\"coerce\")\n",
    "\n",
    "# Replace each Age value with the most common (mode) value for each Customer_ID\n",
    "train_df[\"Age\"] = train_df.groupby(\"Customer_ID\")[\"Age\"].transform(lambda x: x.mode()[0] if not x.mode().empty else x)"
   ]
  },
  {
   "cell_type": "code",
   "execution_count": 21,
   "metadata": {
    "ExecuteTime": {
     "end_time": "2025-02-21T11:03:33.348886Z",
     "start_time": "2025-02-21T11:03:33.321737Z"
    }
   },
   "outputs": [],
   "source": [
    "train_df[\"Payment_of_Min_Amount\"].replace(\"NM\", \"No\", inplace=True)"
   ]
  },
  {
   "cell_type": "code",
   "execution_count": 22,
   "metadata": {
    "ExecuteTime": {
     "end_time": "2025-02-21T11:03:33.363739Z",
     "start_time": "2025-02-21T11:03:33.351767Z"
    }
   },
   "outputs": [],
   "source": [
    "train_df[\"Payment_Behaviour\"].replace(\"!@9#%8\", np.nan, inplace=True)"
   ]
  },
  {
   "cell_type": "code",
   "execution_count": 23,
   "metadata": {
    "ExecuteTime": {
     "end_time": "2025-02-21T11:03:33.457771Z",
     "start_time": "2025-02-21T11:03:33.366723Z"
    }
   },
   "outputs": [],
   "source": [
    "train_df[\"Annual_Income\"] = train_df[\"Annual_Income\"].astype(str).str.replace(r\"_$\", \"\", regex=True)\n",
    "train_df[\"Annual_Income\"] = pd.to_numeric(train_df[\"Annual_Income\"], errors=\"coerce\")  "
   ]
  },
  {
   "cell_type": "code",
   "execution_count": 24,
   "metadata": {
    "ExecuteTime": {
     "end_time": "2025-02-21T11:03:33.473795Z",
     "start_time": "2025-02-21T11:03:33.458542Z"
    }
   },
   "outputs": [],
   "source": [
    "# drop unnecessary features"
   ]
  },
  {
   "cell_type": "code",
   "execution_count": 25,
   "metadata": {
    "ExecuteTime": {
     "end_time": "2025-02-21T11:03:33.519379Z",
     "start_time": "2025-02-21T11:03:33.474800Z"
    }
   },
   "outputs": [],
   "source": [
    "train_df.drop(['ID', 'Customer_ID', 'Name', 'SSN', 'Type_of_Loan',  'age_in_months'], axis=1, inplace=True)"
   ]
  },
  {
   "cell_type": "markdown",
   "metadata": {},
   "source": [
    "# Feature importance"
   ]
  },
  {
   "cell_type": "code",
   "execution_count": 26,
   "metadata": {
    "ExecuteTime": {
     "end_time": "2025-02-21T11:03:33.565780Z",
     "start_time": "2025-02-21T11:03:33.521264Z"
    }
   },
   "outputs": [
    {
     "data": {
      "text/plain": [
       "Month                          0\n",
       "Age                            0\n",
       "Occupation                     0\n",
       "Annual_Income                  0\n",
       "Monthly_Inhand_Salary          0\n",
       "Num_Bank_Accounts              0\n",
       "Num_Credit_Card                0\n",
       "Interest_Rate                  0\n",
       "Num_of_Loan                    0\n",
       "Delay_from_due_date            0\n",
       "Num_of_Delayed_Payment      7646\n",
       "Changed_Credit_Limit           0\n",
       "Num_Credit_Inquiries           0\n",
       "Credit_Mix                     0\n",
       "Outstanding_Debt               0\n",
       "Credit_Utilization_Ratio       0\n",
       "Payment_of_Min_Amount          0\n",
       "Total_EMI_per_month            0\n",
       "Amount_invested_monthly     8784\n",
       "Payment_Behaviour           7600\n",
       "Monthly_Balance             1209\n",
       "Credit_Score                   0\n",
       "Credit_History_Age             0\n",
       "dtype: int64"
      ]
     },
     "execution_count": 26,
     "metadata": {},
     "output_type": "execute_result"
    }
   ],
   "source": [
    "train_df.isnull().sum()"
   ]
  },
  {
   "cell_type": "code",
   "execution_count": null,
   "metadata": {},
   "outputs": [],
   "source": []
  }
 ],
 "metadata": {
  "kernelspec": {
   "display_name": "Python 3",
   "language": "python",
   "name": "python3"
  },
  "language_info": {
   "codemirror_mode": {
    "name": "ipython",
    "version": 3
   },
   "file_extension": ".py",
   "mimetype": "text/x-python",
   "name": "python",
   "nbconvert_exporter": "python",
   "pygments_lexer": "ipython3",
   "version": "3.8.5"
  },
  "toc": {
   "base_numbering": 1,
   "nav_menu": {},
   "number_sections": true,
   "sideBar": true,
   "skip_h1_title": false,
   "title_cell": "Table of Contents",
   "title_sidebar": "Contents",
   "toc_cell": false,
   "toc_position": {},
   "toc_section_display": true,
   "toc_window_display": false
  }
 },
 "nbformat": 4,
 "nbformat_minor": 4
}
