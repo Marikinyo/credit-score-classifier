{
 "cells": [
  {
   "cell_type": "code",
   "execution_count": 1,
   "metadata": {
    "ExecuteTime": {
     "end_time": "2025-02-01T21:03:30.736993Z",
     "start_time": "2025-02-01T21:03:29.992830Z"
    }
   },
   "outputs": [
    {
     "name": "stderr",
     "output_type": "stream",
     "text": [
      "C:\\Users\\user\\anaconda3\\lib\\site-packages\\pandas\\core\\computation\\expressions.py:20: UserWarning: Pandas requires version '2.7.3' or newer of 'numexpr' (version '2.7.1' currently installed).\n",
      "  from pandas.core.computation.check import NUMEXPR_INSTALLED\n"
     ]
    }
   ],
   "source": [
    "import os\n",
    "import pandas as pd"
   ]
  },
  {
   "cell_type": "code",
   "execution_count": 2,
   "metadata": {
    "ExecuteTime": {
     "end_time": "2025-02-01T21:04:08.837864Z",
     "start_time": "2025-02-01T21:04:08.828874Z"
    }
   },
   "outputs": [
    {
     "name": "stdout",
     "output_type": "stream",
     "text": [
      "Current Directory: data\n",
      "\n",
      "Subdirectories: ['.ipynb_checkpoints', 'processed', 'raw']\n",
      "\n",
      "Files: []\n",
      "Current Directory: data\\.ipynb_checkpoints\n",
      "\n",
      "Subdirectories: []\n",
      "\n",
      "Files: []\n",
      "Current Directory: data\\processed\n",
      "\n",
      "Subdirectories: []\n",
      "\n",
      "Files: []\n",
      "Current Directory: data\\raw\n",
      "\n",
      "Subdirectories: []\n",
      "\n",
      "Files: ['test.csv', 'train.csv']\n"
     ]
    }
   ],
   "source": [
    "# Walk through \"data\" folder, printing directories and files \n",
    "# to use their names for file paths\n",
    "\n",
    "for root, dirs, files in os.walk(\"data\"):\n",
    "    print(\"Current Directory:\", root)\n",
    "    print()\n",
    "    print(\"Subdirectories:\", dirs)\n",
    "    print()\n",
    "    print(\"Files:\", files)"
   ]
  },
  {
   "cell_type": "code",
   "execution_count": null,
   "metadata": {},
   "outputs": [],
   "source": [
    "main_dir = 'data/raw/'\n",
    "train_file_name = 'E-commerce Customer Behavior - Sheet1.csv'\n",
    "test_file_name = 'test.csv'\n",
    "file_path = os.path.join(main_dir, file_name)"
   ]
  }
 ],
 "metadata": {
  "kernelspec": {
   "display_name": "Python 3",
   "language": "python",
   "name": "python3"
  },
  "language_info": {
   "codemirror_mode": {
    "name": "ipython",
    "version": 3
   },
   "file_extension": ".py",
   "mimetype": "text/x-python",
   "name": "python",
   "nbconvert_exporter": "python",
   "pygments_lexer": "ipython3",
   "version": "3.8.5"
  },
  "toc": {
   "base_numbering": 1,
   "nav_menu": {},
   "number_sections": true,
   "sideBar": true,
   "skip_h1_title": false,
   "title_cell": "Table of Contents",
   "title_sidebar": "Contents",
   "toc_cell": false,
   "toc_position": {},
   "toc_section_display": true,
   "toc_window_display": false
  }
 },
 "nbformat": 4,
 "nbformat_minor": 4
}
